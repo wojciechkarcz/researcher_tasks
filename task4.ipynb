{
 "cells": [
  {
   "cell_type": "markdown",
   "metadata": {},
   "source": [
    "# Zadanie 4 - Instagram\n",
    "\n",
    "\n",
    "Po wyszukaniu kursów związanych z Instagramem kolejnym zadaniem było zmierzenie skuteczności kursów. Założyłem, że na końcowy wynik wpływ będą mieć trzy czynniki:\n",
    "  * średnia ocena użytkowników [waga: 2]\n",
    "  * komentarze uczestników (analiza sentymentu) [waga: 5]\n",
    "  * moja subiektywna opinia [waga: 3]\n",
    "\n",
    "\n",
    "Największą wagę w ocenie (aż 5) ma sentyment, czyli opinie uczestników, które stanowią istotną wskazówkę, czy kurs rzeczywiście działa i daje wartość.\n",
    " \n",
    "\n",
    "### Wzór do mierzenia skuteczności\n",
    "\n",
    "Ostateczna ocena skuteczności (w skali 0-10) jest mierzona wg wzoru:\n",
    "\n",
    "**P** = O / 5.0 *2 + S * 5 + M\n",
    "\n",
    "**P** - poziom skuteczności\n",
    "\n",
    "**O** - średnia ocena uczestników (znormalizowana do maksymalnej wartości 5.0)\n",
    "\n",
    "**S** - sentyment na bazie analizy ostatnich 10 komentarzy\n",
    "\n",
    "**M** - moja subiektywna ocena w skali 0-3\n",
    "\n",
    "\n",
    "\n",
    "### Analiza sentymentu\n",
    "\n",
    "Do analizy sentymentu pozyskałem 10 aktualnych komentarzy/recenzji poszczególnych kursów (nie wszystkie miały publiczne komentarze). Następnie przy pomocy biblioteki VADER przeanalizowałem sentyment każdego kursu uśredniając wartość. Model VADERa jest trenowany bazując na komentarzach social media, co pasuje do tej sytuacji.\n",
    "\n",
    "\n",
    "Poniżej znajduje się kod:"
   ]
  },
  {
   "cell_type": "code",
   "execution_count": 52,
   "metadata": {},
   "outputs": [],
   "source": [
    "from vaderSentiment.vaderSentiment import SentimentIntensityAnalyzer\n",
    "analyser = SentimentIntensityAnalyzer()"
   ]
  },
  {
   "cell_type": "markdown",
   "metadata": {},
   "source": [
    "Przykładowa analiza sentymentu zdania *'I like your teaching method'* oraz *'I recommend this course 100%. Juliet is excellent! I am learning so many key things.'*. Wartość *'compound'* uwzględnia uśredniony poziom sentymentu, gdzie wartość 1.0 to super pozytywnie:"
   ]
  },
  {
   "cell_type": "code",
   "execution_count": 53,
   "metadata": {},
   "outputs": [
    {
     "data": {
      "text/plain": [
       "{'neg': 0.0, 'neu': 0.545, 'pos': 0.455, 'compound': 0.3612}"
      ]
     },
     "execution_count": 53,
     "metadata": {},
     "output_type": "execute_result"
    }
   ],
   "source": [
    "analyser.polarity_scores('I like your teaching method')"
   ]
  },
  {
   "cell_type": "code",
   "execution_count": 54,
   "metadata": {},
   "outputs": [
    {
     "data": {
      "text/plain": [
       "{'neg': 0.0, 'neu': 0.629, 'pos': 0.371, 'compound': 0.7574}"
      ]
     },
     "execution_count": 54,
     "metadata": {},
     "output_type": "execute_result"
    }
   ],
   "source": [
    "analyser.polarity_scores('I recommend this course 100%. Juliet is excellent! I am learning so many key things.')"
   ]
  },
  {
   "cell_type": "markdown",
   "metadata": {},
   "source": [
    "Otwieram plik z zapisanymi komentarzami i obliczam sentyment dla poszczególnych kursów:"
   ]
  },
  {
   "cell_type": "code",
   "execution_count": 13,
   "metadata": {},
   "outputs": [],
   "source": [
    "f = open('course_reviews', \"r\")\n",
    "lines = f.readlines()\n",
    "f.close()"
   ]
  },
  {
   "cell_type": "code",
   "execution_count": 29,
   "metadata": {},
   "outputs": [
    {
     "name": "stdout",
     "output_type": "stream",
     "text": [
      "Average sentiment:  0.7599\n"
     ]
    }
   ],
   "source": [
    "#Brand strategy on instagram\n",
    "\n",
    "total = 0\n",
    "\n",
    "for i in range(1,11):\n",
    "    total += analyser.polarity_scores(lines[i])['compound']\n",
    "    \n",
    "print(\"Average sentiment: \", round(total/10,4))"
   ]
  },
  {
   "cell_type": "code",
   "execution_count": 30,
   "metadata": {},
   "outputs": [
    {
     "name": "stdout",
     "output_type": "stream",
     "text": [
      "Average sentiment:  0.7258\n"
     ]
    }
   ],
   "source": [
    "#Instagram Ads Fundamentals\n",
    "\n",
    "total = 0\n",
    "\n",
    "for i in range(12,23):\n",
    "    total += analyser.polarity_scores(lines[i])['compound']\n",
    "    \n",
    "print(\"Average sentiment: \", round(total/10,4))"
   ]
  },
  {
   "cell_type": "code",
   "execution_count": 31,
   "metadata": {},
   "outputs": [
    {
     "name": "stdout",
     "output_type": "stream",
     "text": [
      "Average sentiment:  0.8416\n"
     ]
    }
   ],
   "source": [
    "#Instagram marketing Masterclass\n",
    "\n",
    "total = 0\n",
    "\n",
    "for i in range(23,34):\n",
    "    total += analyser.polarity_scores(lines[i])['compound']\n",
    "    \n",
    "print(\"Average sentiment: \", round(total/10,4))"
   ]
  },
  {
   "cell_type": "code",
   "execution_count": 32,
   "metadata": {},
   "outputs": [
    {
     "name": "stdout",
     "output_type": "stream",
     "text": [
      "Average sentiment:  0.849\n"
     ]
    }
   ],
   "source": [
    "#Instagram Marketing 2020: A Step-By-Step to 10,000 Followers\n",
    "\n",
    "total = 0\n",
    "\n",
    "for i in range(34,45):\n",
    "    total += analyser.polarity_scores(lines[i])['compound']\n",
    "        \n",
    "print(\"Average sentiment: \", round(total/10,4))"
   ]
  },
  {
   "cell_type": "code",
   "execution_count": 33,
   "metadata": {},
   "outputs": [
    {
     "name": "stdout",
     "output_type": "stream",
     "text": [
      "Average sentiment:  0.5579\n"
     ]
    }
   ],
   "source": [
    "#Becoming an Instagram Influencer: Creating Authentic Content and Monetizing Your Following\n",
    "\n",
    "total = 0\n",
    "\n",
    "for i in range(45,56):\n",
    "    total += analyser.polarity_scores(lines[i])['compound']\n",
    "        \n",
    "print(\"Average sentiment: \", round(total/10,4))"
   ]
  },
  {
   "cell_type": "code",
   "execution_count": 34,
   "metadata": {},
   "outputs": [
    {
     "name": "stdout",
     "output_type": "stream",
     "text": [
      "Average sentiment:  0.547\n"
     ]
    }
   ],
   "source": [
    "#Growing Your Audience on Instagram\n",
    "\n",
    "total = 0\n",
    "\n",
    "for i in range(56,64):\n",
    "    total += analyser.polarity_scores(lines[i])['compound']\n",
    "        \n",
    "print(\"Average sentiment: \", round(total/8,4))"
   ]
  }
 ],
 "metadata": {
  "kernelspec": {
   "display_name": "Python 3",
   "language": "python",
   "name": "python3"
  },
  "language_info": {
   "codemirror_mode": {
    "name": "ipython",
    "version": 3
   },
   "file_extension": ".py",
   "mimetype": "text/x-python",
   "name": "python",
   "nbconvert_exporter": "python",
   "pygments_lexer": "ipython3",
   "version": "3.6.9"
  }
 },
 "nbformat": 4,
 "nbformat_minor": 4
}
